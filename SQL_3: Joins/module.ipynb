{
 "cells": [
  {
   "cell_type": "markdown",
   "metadata": {},
   "source": [
    "```\n",
    "SELECT *\n",
    "FROM\n",
    "    sql.teams,\n",
    "    sql.matches\n",
    "```\n",
    "\n",
    "![dekart_product](images/dekart_product.png)"
   ]
  },
  {
   "cell_type": "markdown",
   "metadata": {},
   "source": [
    "```\n",
    "SELECT\n",
    "    h.long_name \"домашняя команда\",\n",
    "    m.home_team_goals \"голы домашней команды\",\n",
    "    m.away_team_goals \"голы гостевой команды\",\n",
    "    a.long_name \"гостевая команда\" \n",
    "FROM\n",
    "    sql.matches m\n",
    "    JOIN sql.teams h ON m.home_team_api_id = h.api_id\n",
    "    JOIN sql.teams a ON m.away_team_api_id = a.api_id\n",
    "```"
   ]
  },
  {
   "cell_type": "markdown",
   "metadata": {},
   "source": [
    "Напишите запрос, который выведет полное название домашней команды (long_name), количество голов домашней команды (home_goal) и количество голов гостевой команды (away_goal) в матчах, где домашней командой были команды с коротким названием 'GEN'. Отсортируйте запрос по id матча в порядке возрастания.\n",
    "\n",
    "```\n",
    "select t.long_name long_name, m.home_team_goals home_goal, m.away_team_goals away_goal from sql.teams t join sql.matches m on t.api_id = m.home_team_api_id where t.short_name = 'GEN' order by m.id\n",
    "```"
   ]
  },
  {
   "cell_type": "markdown",
   "metadata": {},
   "source": [
    "Напишите запрос, чтобы вывести id матчей, короткое название домашней команды (home_short), короткое название гостевой команды (away_short) для матчей сезона 2011/2012, в которых участвовала команда с названием Liverpool. Отсортируйте по id матча в порядке возрастания.\n",
    "\n",
    "```\n",
    "select m.id, h.short_name home_short, a.short_name away_short from sql.matches m join sql.teams h on m.home_team_api_id = h.api_id join sql.teams a on m.away_team_api_id = a.api_id where m.season = '2011/2012' and (h.long_name = 'Liverpool' or a.long_name = 'Liverpool') order by m.id\n",
    "```"
   ]
  },
  {
   "cell_type": "markdown",
   "metadata": {},
   "source": [
    "Напишите запрос, с помощью которого можно вывести список полных названий команд, сыгравших в гостях 150 и более матчей. Отсортируйте список по названию команды.\n",
    "\n",
    "```\n",
    "select t.long_name from sql.teams t join sql.matches m on t.api_id = m.away_team_api_id group by t.id having count(t.id) >= 150 order by t.long_name\n",
    "```"
   ]
  },
  {
   "cell_type": "markdown",
   "metadata": {},
   "source": [
    "Используя LEFT JOIN, напишите запрос, который выведет полное название команды (long_name), количество матчей, в которых участвовала команда, — домашних и гостевых (matches_cnt). Отсортируйте по количеству матчей в порядке возрастания, затем — по названию команды в алфавитном порядке.\n",
    "\n",
    "```\n",
    "-- Введите свое решение ниже\n",
    "select t.long_name long_name, count(m.id) matches_cnt from sql.teams t left join sql.matches m on t.api_id = m.home_team_api_id or t.api_id = m.away_team_api_id group by t.id order by matches_cnt, long_name\n",
    "\n",
    "```"
   ]
  },
  {
   "cell_type": "markdown",
   "metadata": {},
   "source": [
    "Напишите запрос, который выведет все возможные уникальные комбинации коротких названий домашней команды (home_team) и коротких названий гостевой команды (away_team). Команда не может сама с собой играть, то есть быть и домашней, и одновременно гостевой (в одном и том же матче). Отсортируйте запрос по первому и второму столбцам.\n",
    "\n",
    "```\n",
    "select distinct t1.short_name home_team, t2.short_name away_team from sql.teams t1 cross join sql.teams t2 where t1.api_id != t2.api_id order by 1, 2\n",
    "```"
   ]
  },
  {
   "cell_type": "markdown",
   "metadata": {},
   "source": [
    "#### NATURAL JOIN\n",
    "![natural_join](images/natural_join.png)"
   ]
  }
 ],
 "metadata": {
  "language_info": {
   "name": "python"
  }
 },
 "nbformat": 4,
 "nbformat_minor": 2
}
