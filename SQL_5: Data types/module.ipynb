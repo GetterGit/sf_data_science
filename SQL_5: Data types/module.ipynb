{
 "cells": [
  {
   "cell_type": "markdown",
   "metadata": {},
   "source": [
    "### DATES\n",
    "![dates](images/dates_0.png)"
   ]
  },
  {
   "cell_type": "markdown",
   "metadata": {},
   "source": [
    "![timezone](images/dates_1.png)"
   ]
  },
  {
   "cell_type": "markdown",
   "metadata": {},
   "source": [
    "### TO_CHAR()\n",
    "![to_char_0](images/to_char_0.png)\n",
    "![to_char_1](images/to_char_1.png)\n",
    "![to_char_2](images/to_char_2.png)\n",
    "![to_char_3](images/to_char_3.png)\n"
   ]
  },
  {
   "cell_type": "markdown",
   "metadata": {},
   "source": [
    "### DATE_TRUNC()\n",
    "![date_trunc](images/date_trunc.png)"
   ]
  },
  {
   "cell_type": "markdown",
   "metadata": {},
   "source": [
    "### WORKING WITH STR\n",
    "![char](images/char.png)"
   ]
  }
 ],
 "metadata": {
  "language_info": {
   "name": "python"
  }
 },
 "nbformat": 4,
 "nbformat_minor": 2
}
