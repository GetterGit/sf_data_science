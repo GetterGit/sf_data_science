{
 "cells": [
  {
   "cell_type": "markdown",
   "metadata": {},
   "source": [
    "### ОБЪЕКТЫ\n",
    "Некоторые данные и действия над ними могут объединяться вместе в единый объект. В Python всё по сути является объектом. Объект числа хранит своё значение — данные, мы можем вызвать его методы, совершать действия. "
   ]
  },
  {
   "cell_type": "code",
   "execution_count": 1,
   "metadata": {},
   "outputs": [
    {
     "name": "stdout",
     "output_type": "stream",
     "text": [
      "False\n",
      "(5, 2)\n"
     ]
    }
   ],
   "source": [
    "number = 2.5   \n",
    "# Вызовем метод is_integer. Он скажет нам, является ли number целым числом  \n",
    "print(number.is_integer())  \n",
    "# => False  \n",
    "\n",
    "# Давайте попробуем представить number как обыкновенную дробь  \n",
    "print(number.as_integer_ratio())  \n",
    "# => (5, 2)  \n",
    "# Действительно 2.5 = 5/2 "
   ]
  },
  {
   "cell_type": "markdown",
   "metadata": {},
   "source": [
    "Посмотрим на список: он хранит данные своих элементов, мы можем совершать над ними действия встроенными методами."
   ]
  },
  {
   "cell_type": "code",
   "execution_count": 2,
   "metadata": {},
   "outputs": [
    {
     "name": "stdout",
     "output_type": "stream",
     "text": [
      "2\n",
      "['Alexandra', 'Stanislav', 'Vasiliy', 'Vasiliy']\n"
     ]
    }
   ],
   "source": [
    "people = [\"Vasiliy\", \"Stanislav\", \"Alexandra\", \"Vasiliy\"]  \n",
    "\n",
    "# Посчитаем число Василиев с помощью метода count  \n",
    "print(people.count(\"Vasiliy\"))  \n",
    "# => 2  \n",
    "\n",
    "# Теперь отсортируем   \n",
    "people.sort()  \n",
    "print(people)  \n",
    "# => ['Alexandra', 'Stanislav', 'Vasiliy', 'Vasiliy'] "
   ]
  },
  {
   "cell_type": "markdown",
   "metadata": {},
   "source": [
    "### КЛАССЫ\n",
    "У всех встроенных объектов есть свой класс. В примере для числа 2.5 мы видим класс действительных чисел (float), для списка — класс списка (list). Класс — это некая заготовка или чертёж, которая описывает общую структуру, свойства и действия для объектов.  \n"
   ]
  },
  {
   "cell_type": "code",
   "execution_count": 3,
   "metadata": {},
   "outputs": [
    {
     "name": "stdout",
     "output_type": "stream",
     "text": [
      "<class 'float'>\n",
      "<class 'list'>\n"
     ]
    }
   ],
   "source": [
    "number = 2.5  \n",
    "print(number.__class__)  \n",
    "# => <class 'float'>  \n",
    "\n",
    "people = [\"Vasiliy\", \"Stanislav\", \"Alexandra\", \"Vasiliy\"]  \n",
    "print(people.__class__)  \n",
    "# => <class 'list'> "
   ]
  },
  {
   "cell_type": "code",
   "execution_count": 5,
   "metadata": {},
   "outputs": [
    {
     "data": {
      "text/plain": [
       "__main__.TestClass"
      ]
     },
     "execution_count": 5,
     "metadata": {},
     "output_type": "execute_result"
    }
   ],
   "source": [
    "class TestClass():\n",
    "    pass\n",
    "\n",
    "test_instance = TestClass()\n",
    "type(test_instance)"
   ]
  },
  {
   "cell_type": "markdown",
   "metadata": {},
   "source": [
    "### АТРИБУТЫ И МЕТОДЫ"
   ]
  },
  {
   "cell_type": "code",
   "execution_count": 6,
   "metadata": {},
   "outputs": [
    {
     "name": "stdout",
     "output_type": "stream",
     "text": [
      "Total amount: 10\n",
      "Total amount: 20\n"
     ]
    }
   ],
   "source": [
    "class SalesReport():\n",
    "    # Наш новый метод внутри класса.  \n",
    "    # Мы определяем его похожим образом с обычными функциями,  \n",
    "    #   но только помещаем внутрь класса и первым аргументом передаём self\n",
    "    def print_report(self):\n",
    "        print('Total amount:', self.amount)\n",
    "        \n",
    "# Дальше мы применяем report так же, как и в примере выше   \n",
    "report = SalesReport()  \n",
    "report.amount = 10  \n",
    "  \n",
    "report_2 = SalesReport()  \n",
    "report_2.amount = 20  \n",
    "  \n",
    "# Используем наши новые методы  \n",
    "report.print_report() # => Total amount: 10  \n",
    "report_2.print_report() # => Total amount: 20 "
   ]
  },
  {
   "cell_type": "markdown",
   "metadata": {},
   "source": [
    "Методы в целом похожи на обычные функции, но их ключевое отличие — доступ к самому объекту. \n",
    "\n",
    "В методе мы первым аргументом получаем self — в нашем случае это отчёт, что позволяет использовать атрибуты объекта внутри метода, как мы сделали с amount. Self передаётся автоматически. При вызове метода мы не передавали никакие аргументы."
   ]
  },
  {
   "cell_type": "code",
   "execution_count": 9,
   "metadata": {},
   "outputs": [
    {
     "name": "stdout",
     "output_type": "stream",
     "text": [
      "Total sales: 40000\n"
     ]
    }
   ],
   "source": [
    "class SalesReport():\n",
    "    # Позволим добавлять много разных сделок\n",
    "    def add_deal(self,amount):\n",
    "        # На первой сделке создадим список для хранения всех сделок\n",
    "        if not hasattr(self, 'deals'):\n",
    "            self.deals = []\n",
    "        self.deals.append(amount)\n",
    "        \n",
    "    def total_amount(self):\n",
    "        return sum(self.deals)\n",
    "    \n",
    "    def print_report(self):\n",
    "        print('Total sales:', self.total_amount())\n",
    "        \n",
    "report = SalesReport()\n",
    "report.add_deal(10_000)\n",
    "report.add_deal(30_000)\n",
    "report.print_report()"
   ]
  },
  {
   "cell_type": "markdown",
   "metadata": {},
   "source": [
    "Атрибут deals, определённый в одном методе, становится доступен сразу во всех методах класса. Через self становятся доступны и остальные методы, например print_report использует метод total_amount. Это позволяет компактно упаковывать логику внутри класса: внешнее использование становится гораздо лаконичнее."
   ]
  },
  {
   "cell_type": "markdown",
   "metadata": {},
   "source": [
    "### МЕТОД _INIT_"
   ]
  },
  {
   "cell_type": "markdown",
   "metadata": {},
   "source": [
    "Если мы вызовем total_amount до add_deal, то список сделок ещё не будет создан, и мы получим ошибку. Также проверка на наличие списка в методе add_deal не кажется оптимальным решением, потому что создать список нужно один раз, а проверять его наличие мы вынуждены на каждой сделке.\n",
    "\n",
    "Обе проблемы решились бы, если задавать атрибутам исходное значение. Для этого у классов есть метод инициализации __init__. Если мы определим метод с таким именем, код в нём вызовется при создании объекта."
   ]
  },
  {
   "cell_type": "code",
   "execution_count": 10,
   "metadata": {},
   "outputs": [
    {
     "name": "stdout",
     "output_type": "stream",
     "text": [
      "[]\n"
     ]
    },
    {
     "data": {
      "text/plain": [
       "0"
      ]
     },
     "execution_count": 10,
     "metadata": {},
     "output_type": "execute_result"
    }
   ],
   "source": [
    "class SalesReport():\n",
    "    def __init__(self):\n",
    "        self.deals = []\n",
    "        \n",
    "    def add_deal(self, amount):   \n",
    "        self.deals.append(amount)  \n",
    "          \n",
    "    def total_amount(self):  \n",
    "        return sum(self.deals)  \n",
    "      \n",
    "    def print_report(self):  \n",
    "        print(\"Total sales:\", self.total_amount())  \n",
    "   \n",
    "report = SalesReport()  \n",
    "print(report.deals)  \n",
    "# => []  \n",
    "report.total_amount()  \n",
    "# => 0  "
   ]
  },
  {
   "cell_type": "markdown",
   "metadata": {},
   "source": [
    "__init__ — это технический метод, поэтому его имя начинается и заканчивается двумя подчёркиваниями. Он получает первым аргументом сам объект, в нём могут выполняться любые операции. Оставшиеся аргументы он получает из вызова при создании: если мы напишем report = SalesReport(\"Info\", 20), то вторым и третьим аргументом в __init__ передадутся \"Info\" и 20."
   ]
  },
  {
   "cell_type": "code",
   "execution_count": 11,
   "metadata": {},
   "outputs": [
    {
     "name": "stdout",
     "output_type": "stream",
     "text": [
      "Manager: Ivan Taranov\n",
      "Total sales: 40000\n"
     ]
    }
   ],
   "source": [
    "class SalesReport():  \n",
    "    # Будем принимать в __init__ ещё и имя менеджера  \n",
    "    def __init__(self, manager_name):  \n",
    "        self.deals = []  \n",
    "        self.manager_name = manager_name  \n",
    "          \n",
    "    def add_deal(self, amount):   \n",
    "        self.deals.append(amount)  \n",
    "          \n",
    "    def total_amount(self):  \n",
    "        return sum(self.deals)  \n",
    "      \n",
    "    def print_report(self):  \n",
    "        # И добавлять это имя в отчёт  \n",
    "        print(\"Manager:\", self.manager_name)  \n",
    "        print(\"Total sales:\", self.total_amount())  \n",
    "          \n",
    "   \n",
    "report = SalesReport(\"Ivan Taranov\")  \n",
    "report.add_deal(10_000)  \n",
    "report.add_deal(30_000)  \n",
    "report.print_report()  \n",
    "# =>   \n",
    "# Manager: Ivan Taranov  \n",
    "# Total sales: 40000"
   ]
  },
  {
   "cell_type": "markdown",
   "metadata": {},
   "source": [
    "![class_summary](images/class_summary.png)"
   ]
  },
  {
   "cell_type": "code",
   "execution_count": 14,
   "metadata": {},
   "outputs": [
    {
     "name": "stdout",
     "output_type": "stream",
     "text": [
      "Employee:  Ivan Semenov\n",
      "Total sales: 390000\n",
      "Average sales: 130000.0\n",
      "Companies: ['PepsiCo', 'SkyEng']\n"
     ]
    }
   ],
   "source": [
    "class SalesReport():\n",
    "    def __init__(self, employee_name):\n",
    "        self.deals = []\n",
    "        self.employee_name = employee_name\n",
    "    \n",
    "    def add_deal(self, company, amount):\n",
    "        self.deals.append({'company': company, 'amount': amount})\n",
    "        \n",
    "    def total_amount(self):\n",
    "        return sum(deal['amount'] for deal in self.deals)\n",
    "    \n",
    "    def average_deal(self):\n",
    "        return self.total_amount() / len(self.deals)\n",
    "    \n",
    "    def all_companies(self):\n",
    "        return list(set(deal['company'] for deal in self.deals))\n",
    "    \n",
    "    def print_report(self):\n",
    "        print(\"Employee: \", self.employee_name)  \n",
    "        print(\"Total sales:\", self.total_amount())  \n",
    "        print(\"Average sales:\", self.average_deal())  \n",
    "        print(\"Companies:\", self.all_companies())  \n",
    "        \n",
    "      \n",
    "report = SalesReport(\"Ivan Semenov\")  \n",
    "  \n",
    "report.add_deal(\"PepsiCo\", 120_000)  \n",
    "report.add_deal(\"SkyEng\", 250_000)  \n",
    "report.add_deal(\"PepsiCo\", 20_000)  \n",
    "  \n",
    "report.print_report()  "
   ]
  },
  {
   "cell_type": "markdown",
   "metadata": {},
   "source": [
    "### ОТСЛЕЖИВАНИЕ СОСТОЯНИЯ\n",
    "Одно из классических предписаний для классов — у каждого из множества объектов есть некоторые меняющиеся состояния. "
   ]
  },
  {
   "cell_type": "code",
   "execution_count": 15,
   "metadata": {},
   "outputs": [
    {
     "name": "stdout",
     "output_type": "stream",
     "text": [
      "Order price for max@gmail.com is 100\n",
      "Order price for lova@yandex.ru is 180.0\n",
      "Order price for german@sberbank.ru is 500\n",
      "Order price for german@sberbank.ru is 450.0\n"
     ]
    }
   ],
   "source": [
    "class Client():\n",
    "    def __init__(self, email, order_num, registration_year) -> None:\n",
    "        self.email = email\n",
    "        self.order_num = order_num\n",
    "        self.registration_year = registration_year\n",
    "        self.discount = 0\n",
    "        \n",
    "    def make_order(self, price):\n",
    "        self.update_discount()\n",
    "        self.order_num += 1\n",
    "        discounted_price = price * (1-self.discount)\n",
    "        print(f'Order price for {self.email} is {discounted_price}')\n",
    "    \n",
    "    def update_discount(self):\n",
    "        if self.registration_year < 2018 and self.order_num >= 5:\n",
    "            self.discount = 0.1\n",
    "            \n",
    "# Сделаем подобие базы  \n",
    "client_db = [   \n",
    "    Client(\"max@gmail.com\", 2, 2019),  \n",
    "    Client(\"lova@yandex.ru\", 10, 2015),  \n",
    "    Client(\"german@sberbank.ru\", 4, 2017)  \n",
    "]  \n",
    "  \n",
    "  \n",
    "# Сгенерируем заказы  \n",
    "client_db[0].make_order(100)  \n",
    "# => Order price for max@gmail.com is 100  \n",
    "  \n",
    "client_db[1].make_order(200)  \n",
    "# => Order price for lova@yandex.ru is 180.0  \n",
    "  \n",
    "client_db[2].make_order(500)  \n",
    "# => Order price for german@sberbank.ru is 500  \n",
    "  \n",
    "client_db[2].make_order(500)  \n",
    "# => Order price for german@sberbank.ru is 450.0 "
   ]
  },
  {
   "cell_type": "markdown",
   "metadata": {},
   "source": [
    "### КОМБИНАЦИЯ ОПЕРАЦИЙ\n",
    "Классы могут пригодиться, если вы регулярно делаете над данными одну и ту же последовательность разноплановых функций. Вы можете упаковать их в класс и в дальнейшем сразу получать результат по загруженным данным."
   ]
  },
  {
   "cell_type": "code",
   "execution_count": 19,
   "metadata": {},
   "outputs": [
    {
     "name": "stdout",
     "output_type": "stream",
     "text": [
      "[1.0, 17.0, 4.0, 0.0, 8.0]\n",
      "6.892024376045111\n",
      "4.0\n"
     ]
    }
   ],
   "source": [
    "import statistics\n",
    "\n",
    "class DataFrame():\n",
    "    def __init__(self, column, fill_value=0) -> None:\n",
    "        self.column = column\n",
    "        self.fill_value = fill_value\n",
    "        self.fill_missed()\n",
    "        self.to_float()\n",
    "\n",
    "    def fill_missed(self):\n",
    "        for i, value in enumerate(self.column):\n",
    "            if value is None or value == '':\n",
    "                self.column[i] = self.fill_value\n",
    "    \n",
    "    def to_float(self):\n",
    "        self.column = [float(value) for value in self.column]\n",
    "        \n",
    "    def median(self):\n",
    "        return statistics.median(self.column)\n",
    "    \n",
    "    def mean(self):\n",
    "        return statistics.mean(self.column)\n",
    "    \n",
    "    def deviation(self):\n",
    "        return statistics.stdev(self.column)\n",
    "\n",
    "# Воспользуемся классом  \n",
    "df = DataFrame([\"1\", 17, 4, None, 8])  \n",
    "  \n",
    "print(df.column)  \n",
    "# => [1.0, 17.0, 4.0, 0.0, 8.0]  \n",
    "print(df.deviation())  \n",
    "# => 6.89  \n",
    "print(df.median())  \n",
    "# => 4.0  \n"
   ]
  },
  {
   "cell_type": "markdown",
   "metadata": {},
   "source": [
    "### КЛАСС-ОБЁРТКА \n",
    "Классы можно использовать тогда, когда у вас есть процесс, который требует сложной конфигурации, повторяющейся из раза в раз. Можно написать класс-обёртку, который сведёт этот процесс к одному-двум методам."
   ]
  },
  {
   "cell_type": "code",
   "execution_count": 20,
   "metadata": {},
   "outputs": [
    {
     "name": "stdout",
     "output_type": "stream",
     "text": [
      "{'perfomance': [10, 20, 10], 'clients': {'Romashka': 10, 'Vector': 34}}\n"
     ]
    }
   ],
   "source": [
    "import pickle\n",
    "from datetime import datetime\n",
    "from os import path\n",
    "\n",
    "class Dumper():\n",
    "    def __init__(self, archive_dir=\"archive/\") -> None:\n",
    "        self.archive_dir = archive_dir\n",
    "        \n",
    "    def dump(self, data):\n",
    "        # Библиотека pickle позволяет доставать и класть объекты в файл\n",
    "        with open(self.get_file_name(), 'wb') as file:\n",
    "            pickle.dump(data, file)\n",
    "    \n",
    "    def load_for_day(self, day):\n",
    "        file_name = path.join(self.archive_dir, day + \".pkl\")\n",
    "        with open(file_name, 'rb') as file:\n",
    "            sets = pickle.load(file)\n",
    "        return sets\n",
    "    \n",
    "    def get_file_name(self):\n",
    "        today = datetime.now().strftime(\"%y-%m-%d\")\n",
    "        return path.join(self.archive_dir, today + \".pkl\")\n",
    "    \n",
    "# Пример использования  \n",
    "  \n",
    "data = {  \n",
    "    'perfomance': [10, 20, 10],  \n",
    "    'clients': {\"Romashka\": 10, \"Vector\": 34}  \n",
    "}  \n",
    "  \n",
    "  \n",
    "dumper = Dumper()  \n",
    "  \n",
    "# Сохраним данные  \n",
    "dumper.dump(data)  \n",
    "  \n",
    "# Восстановим для сегодняшней даты  \n",
    "file_name = datetime.now().strftime(\"%y-%m-%d\")\n",
    "restored_data = dumper.load_for_day(file_name)\n",
    "print(restored_data)  \n",
    "# => {'perfomance': [10, 20, 10], 'clients': {'Romashka': 10, 'Vector': 34}}  "
   ]
  },
  {
   "cell_type": "markdown",
   "metadata": {},
   "source": [
    "Напишите класс сборщика технических сообщений OwnLogger.\n",
    "\n",
    "У него должен быть\n",
    "\n",
    "- атрибут logs, содержащий {\"info\": None, \"warning\": None, \"error\": None, \"all\": None}.\n",
    "- метод log(message, level), который записывает сообщения. Здесь сообщение message может быть любым, а level — один из \"info\", \"warning\", \"error\".\n",
    "- метод show_last(level), где level может быть \"info\", \"warning\", \"error\", \"all\".\n",
    "\n",
    "Для \"all\" он просто возвращает последнее добавленное сообщение, а для остальных — последнее поступившее сообщение соответствующего уровня. При этом по умолчанию значение именно \"all\".\n",
    "\n",
    "Если подходящего сообщения нет, возвращает None."
   ]
  },
  {
   "cell_type": "code",
   "execution_count": 31,
   "metadata": {},
   "outputs": [
    {
     "data": {
      "text/plain": [
       "'System started'"
      ]
     },
     "execution_count": 31,
     "metadata": {},
     "output_type": "execute_result"
    }
   ],
   "source": [
    "class OwnLogger():\n",
    "    def __init__(self) -> None:\n",
    "        self.logs = {\"info\": None, \"warning\": None, \"error\": None, \"all\": None}\n",
    "    \n",
    "    def log(self, message, level):\n",
    "        self.logs[level] = message\n",
    "        if level != 'all':\n",
    "            self.logs['all'] = message\n",
    "    \n",
    "    def show_last(self, level='all'):\n",
    "        return self.logs[level]\n",
    "\n",
    "logger = OwnLogger()\n",
    "logger.log(\"System started\", \"info\")\n",
    "logger.show_last(\"error\")\n",
    "# None\n",
    "# Некоторые интерпретаторы Python могут не выводить None, тогда в этой проверке у вас будет пустая строка\n",
    "logger.log(\"Connection unstable\", \"warning\")\n",
    "logger.log(\"Connection lost\", \"error\")\n",
    "\n",
    "logger.show_last()\n",
    "# Connection lost\n",
    "logger.show_last(\"info\")\n",
    "# System started"
   ]
  },
  {
   "cell_type": "code",
   "execution_count": 33,
   "metadata": {},
   "outputs": [
    {
     "name": "stdout",
     "output_type": "stream",
     "text": [
      "Warning message\n"
     ]
    }
   ],
   "source": [
    "res = OwnLogger()\n",
    "res.log(message='System started', level='info')\n",
    "res.log(message='System started 2', level='info')\n",
    "res.log(message='Warning message', level='warning')\n",
    "\n",
    "print(res.show_last())"
   ]
  },
  {
   "cell_type": "markdown",
   "metadata": {},
   "source": [
    "### ИМПОРТ И ОРГАНИЗАЦИЯ КОДА\n",
    "Классы, как и библиотечные функции, можно импортировать в другие программы. Для этого нужно положить класс в отдельный файл в корне проекта и использовать ключевое слово import. \n",
    "\n",
    "***\n",
    "\n",
    "helpers\n",
    "-- __init__.py\n",
    "-- dumper.py\n",
    "-- data_frame.py\n",
    "-- client.py\n",
    "\n",
    "from helpers.dumper import Dumper  \n",
    "from helpers.data_frame import DataFrame  \n",
    "from helpers.client import Client  "
   ]
  },
  {
   "cell_type": "markdown",
   "metadata": {},
   "source": [
    "***"
   ]
  },
  {
   "cell_type": "markdown",
   "metadata": {},
   "source": [
    "### ПУТЬ К ФАЙЛУ"
   ]
  },
  {
   "cell_type": "code",
   "execution_count": 34,
   "metadata": {},
   "outputs": [
    {
     "name": "stdout",
     "output_type": "stream",
     "text": [
      "/Users/apple/Desktop/Vianu Reebs Inc/Education/skill_factory/PY-15: Main principles of OOP\n"
     ]
    }
   ],
   "source": [
    "import os\n",
    "\n",
    "start_path = os.getcwd()\n",
    "print(start_path)"
   ]
  },
  {
   "cell_type": "code",
   "execution_count": 35,
   "metadata": {},
   "outputs": [
    {
     "data": {
      "text/plain": [
       "'/Users/apple/Desktop/Vianu Reebs Inc/Education/skill_factory'"
      ]
     },
     "execution_count": 35,
     "metadata": {},
     "output_type": "execute_result"
    }
   ],
   "source": [
    "os.chdir(\"..\")\n",
    "os.getcwd()"
   ]
  },
  {
   "cell_type": "code",
   "execution_count": 36,
   "metadata": {},
   "outputs": [
    {
     "data": {
      "text/plain": [
       "'/Users/apple/Desktop/Vianu Reebs Inc/Education/skill_factory/PY-15: Main principles of OOP'"
      ]
     },
     "execution_count": 36,
     "metadata": {},
     "output_type": "execute_result"
    }
   ],
   "source": [
    "os.chdir(start_path)\n",
    "os.getcwd()"
   ]
  },
  {
   "cell_type": "code",
   "execution_count": 37,
   "metadata": {},
   "outputs": [
    {
     "name": "stdout",
     "output_type": "stream",
     "text": [
      "/Users/apple/Desktop/Vianu Reebs Inc/Education/skill_factory/PY-15: Main principles of OOP\n",
      "/Users/apple/Desktop/Vianu Reebs Inc/Education/skill_factory/PY-15: Main principles of OOP/test\n"
     ]
    }
   ],
   "source": [
    "# соединяет пути с учётом особенностей операционной системы\n",
    "print(start_path)\n",
    "print(os.path.join(start_path, 'test'))\n",
    "\n",
    "# /home/nbuser/library\n",
    "# /home/nbuser/library/test"
   ]
  },
  {
   "cell_type": "markdown",
   "metadata": {},
   "source": [
    "Сделайте функцию, которая принимает от пользователя путь и выводит всю информацию о содержимом этой папки. Для реализации используйте функцию встроенного модуля os.walk(). Если путь не указан, то сравнение начинается с текущей директории."
   ]
  },
  {
   "cell_type": "code",
   "execution_count": 39,
   "metadata": {},
   "outputs": [
    {
     "name": "stdout",
     "output_type": "stream",
     "text": [
      "Current root: /Users/apple/Desktop/Vianu Reebs Inc/Education/skill_factory/PY-15: Main principles of OOP\n",
      "---\n",
      "Dirs list: ['archive', 'images', 'data']\n",
      "---\n",
      "Files list: ['module.ipynb']\n",
      "---\n",
      "All paths:\n",
      "File /Users/apple/Desktop/Vianu Reebs Inc/Education/skill_factory/PY-15: Main principles of OOP/module.ipynb\n",
      "Dir  /Users/apple/Desktop/Vianu Reebs Inc/Education/skill_factory/PY-15: Main principles of OOP/archive\n",
      "Dir  /Users/apple/Desktop/Vianu Reebs Inc/Education/skill_factory/PY-15: Main principles of OOP/images\n",
      "Dir  /Users/apple/Desktop/Vianu Reebs Inc/Education/skill_factory/PY-15: Main principles of OOP/data\n",
      "===\n",
      "Current root: /Users/apple/Desktop/Vianu Reebs Inc/Education/skill_factory/PY-15: Main principles of OOP/archive\n",
      "---\n",
      "No dirs found\n",
      "---\n",
      "Files list: ['24-04-13.pkl']\n",
      "---\n",
      "File /Users/apple/Desktop/Vianu Reebs Inc/Education/skill_factory/PY-15: Main principles of OOP/archive/24-04-13.pkl\n",
      "===\n",
      "Current root: /Users/apple/Desktop/Vianu Reebs Inc/Education/skill_factory/PY-15: Main principles of OOP/images\n",
      "---\n",
      "No dirs found\n",
      "---\n",
      "Files list: ['class_summary.png']\n",
      "---\n",
      "File /Users/apple/Desktop/Vianu Reebs Inc/Education/skill_factory/PY-15: Main principles of OOP/images/class_summary.png\n",
      "===\n",
      "Current root: /Users/apple/Desktop/Vianu Reebs Inc/Education/skill_factory/PY-15: Main principles of OOP/data\n",
      "---\n",
      "No dirs found\n",
      "---\n",
      "No files found\n",
      "---\n",
      "===\n"
     ]
    }
   ],
   "source": [
    "def get_path(path=None):\n",
    "    start_path = path if path is not None else os.getcwd()\n",
    "    \n",
    "    for root, dirs, files in os.walk(start_path):\n",
    "        print(\"Current root:\", root)\n",
    "        print(\"---\")\n",
    "        \n",
    "        if dirs:\n",
    "            print(\"Dirs list:\", dirs)\n",
    "        else:\n",
    "            print(\"No dirs found\")\n",
    "        print(\"---\")\n",
    "        \n",
    "        if files:\n",
    "            print(\"Files list:\", files)\n",
    "        else:\n",
    "            print(\"No files found\")\n",
    "        print(\"---\")\n",
    "        \n",
    "        if files and dirs:\n",
    "            print(\"All paths:\")\n",
    "        for f in files:\n",
    "            print(\"File\", os.path.join(root, f))\n",
    "        for d in dirs:\n",
    "            print(\"Dir \", os.path.join(root, d))\n",
    "        print('===')\n",
    "\n",
    "get_path()"
   ]
  },
  {
   "cell_type": "code",
   "execution_count": 41,
   "metadata": {},
   "outputs": [
    {
     "name": "stdout",
     "output_type": "stream",
     "text": [
      "Hello Alice\n",
      "Hello Alice\n",
      "Hello Alice\n"
     ]
    }
   ],
   "source": [
    "# just a quick play with decorators\n",
    "\n",
    "def repeat(num_times):\n",
    "    def decorator_repeat(func):\n",
    "        def wrapper(*args, **kwargs):\n",
    "            for i in range (num_times):\n",
    "                result = func(*args, **kwargs)\n",
    "            return result\n",
    "        return wrapper\n",
    "    return decorator_repeat\n",
    "\n",
    "@repeat(num_times=3)\n",
    "def greet(name):\n",
    "    print(f'Hello {name}')\n",
    "    \n",
    "greet('Alice')"
   ]
  },
  {
   "cell_type": "markdown",
   "metadata": {},
   "source": [
    "Создайте любой файл на операционной системе под название input.txt и построчно перепишите его в файл output.txt."
   ]
  },
  {
   "cell_type": "code",
   "execution_count": 1,
   "metadata": {},
   "outputs": [],
   "source": [
    "with open(\"files/input.txt\", \"r\") as input_file:\n",
    "    with open(\"files/output.txt\", \"w\") as output_file:\n",
    "        for line in input_file:\n",
    "            output_file.write(line)"
   ]
  },
  {
   "cell_type": "markdown",
   "metadata": {},
   "source": [
    "Дан файл numbers.txt, компоненты которого являются действительными числами (файл создайте самостоятельно и заполните любыми числам, в одной строке одно число). Найдите сумму наибольшего и наименьшего из значений и запишите результат в файл output.txt."
   ]
  },
  {
   "cell_type": "code",
   "execution_count": 3,
   "metadata": {},
   "outputs": [],
   "source": [
    "with open(\"files/numbers.txt\") as f:\n",
    "    min_ = max_ = float(f.readline()) # считали первое число\n",
    "    for line in f:\n",
    "        num = float(line)\n",
    "        if num > max_:\n",
    "            max_ = num\n",
    "        elif num < min_:\n",
    "            min_ = num\n",
    "    \n",
    "    sum_ = max_ + min_\n",
    "\n",
    "with open(\"files/output_numbers.txt\", 'w') as f:\n",
    "    f.write(str(sum_))\n",
    "    f.write('\\n')"
   ]
  },
  {
   "cell_type": "markdown",
   "metadata": {},
   "source": [
    "В текстовый файл построчно записаны фамилии и имена учащихся класса и их оценки за контрольную. Подсчитайте количество учащихся, чья оценка меньше 3 баллов."
   ]
  },
  {
   "cell_type": "code",
   "execution_count": 4,
   "metadata": {},
   "outputs": [
    {
     "name": "stdout",
     "output_type": "stream",
     "text": [
      "4\n"
     ]
    }
   ],
   "source": [
    "count = 0\n",
    "for line in open(\"files/student_marks.txt\"):\n",
    "    points = int(line.split()[-1])\n",
    "    if points < 3:\n",
    "        count += 1\n",
    "\n",
    "print(count)"
   ]
  },
  {
   "cell_type": "markdown",
   "metadata": {},
   "source": [
    "Выполните реверсирование строк файла (перестановку строк файла в обратном порядке)."
   ]
  },
  {
   "cell_type": "code",
   "execution_count": 8,
   "metadata": {},
   "outputs": [],
   "source": [
    "with open(\"files/input.txt\", \"r\") as input_file:\n",
    "    with open(\"files/output.txt\", \"w\") as output_file:\n",
    "        for line in reversed(input_file.readlines()):\n",
    "            output_file.write(line + \"\\n\")"
   ]
  },
  {
   "cell_type": "markdown",
   "metadata": {},
   "source": [
    "***"
   ]
  },
  {
   "cell_type": "markdown",
   "metadata": {},
   "source": [
    "### ИСКЛЮЧЕНИЯ"
   ]
  },
  {
   "cell_type": "markdown",
   "metadata": {},
   "source": [
    "List of built-in exceptions https://docs.python.org/3/library/exceptions.html"
   ]
  },
  {
   "cell_type": "markdown",
   "metadata": {},
   "source": [
    "![try_except_else_finally](images/try_except_else_finally.png)"
   ]
  },
  {
   "cell_type": "code",
   "execution_count": null,
   "metadata": {},
   "outputs": [],
   "source": [
    "'''try:\n",
    "    print(\"Перед исключением\")\n",
    "    a = int(input(\"a: \"))\n",
    "    b = int(input(\"b: \"))\n",
    "    c = a / b\n",
    "    print(c)  # печатаем c = a / b если всё хорошо\n",
    "except ZeroDivisionError as e:\n",
    "    print(\"После исключения\")\n",
    "else:  # код в блоке else выполняется только в том случае, если код в блоке try выполнился успешно (т.е. не вылетело никакого исключения).\n",
    "    print(\"Всё ништяк\")\n",
    "finally:  # код в блоке finally выполнится в любом случае, при выходе из try-except\n",
    "    print(\"Finally на месте\")\n",
    " \n",
    "print(\"После После исключения\")'''"
   ]
  },
  {
   "cell_type": "code",
   "execution_count": null,
   "metadata": {},
   "outputs": [],
   "source": [
    "'''age = int(input(\"Сколько тебе лет?\"))\n",
    "\n",
    " \n",
    "if age > 100 or age <= 0:\n",
    "    raise ValueError(\"Тебе не может быть столько лет\")\n",
    " \n",
    "print(f\"Тебе {age} лет!\") # Возраст выводится только если пользователь ввёл правильный возраст.'''"
   ]
  },
  {
   "cell_type": "markdown",
   "metadata": {},
   "source": [
    "Создать скрипт, который будет в input() принимать строки, и их необходимо будет конвертировать в числа, добавить try-except на то, чтобы строки могли быть сконвертированы в числа."
   ]
  },
  {
   "cell_type": "code",
   "execution_count": null,
   "metadata": {},
   "outputs": [],
   "source": [
    "'''\n",
    "try:\n",
    "    i = int(input('Введите число:\\t'))\n",
    "except ValueError as e:\n",
    "    print('Вы ввели неправильное число')\n",
    "else:\n",
    "    print(f'Вы ввели {i}')\n",
    "finally:\n",
    "    print('Выход из программы')\n",
    "'''"
   ]
  },
  {
   "cell_type": "code",
   "execution_count": null,
   "metadata": {},
   "outputs": [],
   "source": [
    "'''BaseException\n",
    " +-- SystemExit\n",
    " +-- KeyboardInterrupt\n",
    " +-- GeneratorExit\n",
    " +-- Exception\n",
    "  \t+-- StopIteration\n",
    "  \t+-- StopAsyncIteration\n",
    "  \t+-- ArithmeticError\n",
    "  \t|\tFloatingPointError\n",
    "  \t|\tOverflowError\n",
    "  \t|\tZeroDivisionError\n",
    "  \t+-- AssertionError\n",
    "  \t+-- AttributeError\n",
    "  \t+-- BufferError\n",
    "  \t+-- EOFError\n",
    "  \t+-- ImportError\n",
    "  \t|\t+-- ModuleNotFoundError\n",
    "  \t+-- LookupError\n",
    "  \t|\t+-- IndexError\n",
    "  \t|\t+-- KeyError\n",
    "  \t+-- MemoryError\n",
    "  \t+-- NameError\n",
    "  \t|\t+-- UnboundLocalError\n",
    "  \t+-- OSError\n",
    "  \t|\t+-- BlockingIOError\n",
    "  \t|\t+-- ChildProcessError\n",
    "  \t|\t+-- ConnectionError\n",
    "  \t|\t|\t+-- BrokenPipeError\n",
    "  \t|\t|\t+-- ConnectionAbortedError\n",
    "  \t|\t|\t+-- ConnectionRefusedError\n",
    "  \t|\t|\t+-- ConnectionResetError\n",
    "  \t|\t+-- FileExistsError\n",
    "  \t|\t+-- FileNotFoundError\n",
    "  \t|\t+-- InterruptedError\n",
    "  \t|\t+-- IsADirectoryError\n",
    "  \t|\t+-- NotADirectoryError\n",
    "  \t|\t+-- PermissionError\n",
    "  \t|\t+-- ProcessLookupError\n",
    "  \t|\t+-- TimeoutError\n",
    "  \t+-- ReferenceError\n",
    "  \t+-- RuntimeError\n",
    "  \t|\t+-- NotImplementedError\n",
    "  \t|\t+-- RecursionError\n",
    "  \t+-- SyntaxError\n",
    "  \t|\t+-- IndentationError\n",
    "  \t|     \t+-- TabError\n",
    "  \t+-- SystemError\n",
    "  \t+-- TypeError\n",
    "  \t+-- ValueError\n",
    "  \t|\t+-- UnicodeError\n",
    "  \t|     \t+-- UnicodeDecodeError\n",
    "  \t|     \t+-- UnicodeEncodeError\n",
    "  \t|     \t+-- UnicodeTranslateError\n",
    "  \t+-- Warning\n",
    "       \t+-- DeprecationWarning\n",
    "       \t+-- PendingDeprecationWarning\n",
    "       \t+-- RuntimeWarning\n",
    "       \t+-- SyntaxWarning\n",
    "       \t+-- UserWarning\n",
    "       \t+-- FutureWarning\n",
    "       \t+-- ImportWarning\n",
    "       \t+-- UnicodeWarning\n",
    "       \t+-- BytesWarning\n",
    "       \t+-- ResourceWarning'''"
   ]
  },
  {
   "cell_type": "markdown",
   "metadata": {},
   "source": [
    "Классы +-- SystemExit +-- KeyboardInterrupt +-- GeneratorExit являются исключениями, которые нельзя поймать, поскольку их возникновение не зависит от выполнения программы. А все, что наследуются от Exception, можно отловить и обработать (хорошенько так). Однако некоторые из них возникают очень редко."
   ]
  },
  {
   "cell_type": "code",
   "execution_count": 5,
   "metadata": {},
   "outputs": [
    {
     "name": "stdout",
     "output_type": "stream",
     "text": [
      "0\n"
     ]
    }
   ],
   "source": [
    "try:\n",
    "    raise ZeroDivisionError  # возбуждаем исключение ZeroDivisionError\n",
    "except ArithmeticError:  # ловим его родителя\n",
    "    print(\"Hello from arithmetic error\")"
   ]
  },
  {
   "cell_type": "markdown",
   "metadata": {},
   "source": [
    "ArithmeticError является более абстрактным (находящимся выше в иерархическом дереве, родительским) классом. Если вы хотите ловить сначала исключения-потомки, а затем родительские исключения, убедитесь, что в блоке except отлов родительского исключения стоит ниже, чем отлов исключения-потомка. Иначе говоря, ваша конструкция отлова исключений должна идти от конкретного класса к более абстрактному."
   ]
  },
  {
   "cell_type": "markdown",
   "metadata": {},
   "source": [
    "Иногда может понадобиться написать собственное исключение. Например, вы пишете собственную игру и вам нужно обработать ситуацию, когда ваш персонаж пытается выучить способность, при этом не достигнув нужного уровня. Или пытается положить в уже заполненный инвентарь ещё какой-то предмет.\n",
    "\n",
    "Принцип написания и отлова собственного исключения следующий:"
   ]
  },
  {
   "cell_type": "code",
   "execution_count": 6,
   "metadata": {},
   "outputs": [
    {
     "name": "stdout",
     "output_type": "stream",
     "text": [
      "message\n"
     ]
    }
   ],
   "source": [
    "class MyException(Exception):\n",
    "    pass\n",
    "\n",
    "try:\n",
    "    raise MyException(\"message\")\n",
    "except MyException as e:\n",
    "    print(e)"
   ]
  },
  {
   "cell_type": "markdown",
   "metadata": {},
   "source": [
    "Лучше всего, чтобы исключения были связаны между собой, то есть наследовались от общего класса исключения. Если продолжить пример с игрой из прошлого абзаца, то общим классом был бы GameplayException."
   ]
  },
  {
   "cell_type": "code",
   "execution_count": 7,
   "metadata": {},
   "outputs": [
    {
     "name": "stdout",
     "output_type": "stream",
     "text": [
      "message\n"
     ]
    }
   ],
   "source": [
    "class ParentException(Exception):  # создаём пустой класс исключения, наследуемся от exception\n",
    "    pass\n",
    "\n",
    " \n",
    "class ChildException(ParentException):  # создаём пустой класс исключения-потомка, наследуемся от ParentException\n",
    "    pass\n",
    "\n",
    " \n",
    "try:\n",
    "    raise ChildException(\"message\")  # поднимаем исключение-потомок\n",
    "except ParentException as e:  # ловим его родителя\n",
    "    print(e)  # выводим информацию об исключении"
   ]
  },
  {
   "cell_type": "markdown",
   "metadata": {},
   "source": [
    "В этом случае мы успешно обработали собственный класс-наследник, хотя он и не является ParentException. Когда исключение возникает, в каждом блоке except по порядку интерпретатор проверяет, является ли исключение наследником или самим классом отлавливаемого исключения, и если да, то выполняет код в except."
   ]
  },
  {
   "cell_type": "code",
   "execution_count": 9,
   "metadata": {},
   "outputs": [
    {
     "name": "stdout",
     "output_type": "stream",
     "text": [
      "Errors: VerySeriousError\n",
      "This is the error message\n"
     ]
    }
   ],
   "source": [
    "class ParentException(Exception):\n",
    "    def __init__(self, message, error) -> None:\n",
    "        super().__init__(message)\n",
    "        print(f\"Errors: {error}\")\n",
    "\n",
    "class ChildException(ParentException):\n",
    "    def __init__(self, message, error) -> None:\n",
    "        super().__init__(message, error)\n",
    "        \n",
    "try:\n",
    "    raise ChildException(\"This is the error message\", \"VerySeriousError\")\n",
    "except ParentException as e:\n",
    "    print(e)"
   ]
  },
  {
   "cell_type": "markdown",
   "metadata": {},
   "source": [
    "**Давайте подведём итоги:**\n",
    "\n",
    "1. Исключения — это такие особенные классы, которые, как и любые классы, можно наследовать. Если вы хотите ловить несколько исключений, то сначала ловите потомков, а потом родителей, чтобы ничего не упустить.\n",
    "\n",
    "2. Чтобы создать собственный класс, нужно просто написать пустой класс и наследовать его от класса Exception, этого будет достаточно.\n",
    "\n",
    "3. Необязательно «отлавливать» сам класс. При необходимости можно отлавливать его родителя, это тоже будет работать, но вы можете упустить важную информацию."
   ]
  },
  {
   "cell_type": "markdown",
   "metadata": {},
   "source": [
    "Создайте класс Square. Добавьте в конструктор класса Square собственное исключение NonPositiveDigitException, унаследованное от ValueError, которое будет срабатывать каждый раз, когда сторона квадрата меньше или равна 0."
   ]
  },
  {
   "cell_type": "code",
   "execution_count": 12,
   "metadata": {},
   "outputs": [
    {
     "name": "stdout",
     "output_type": "stream",
     "text": [
      "Error: Wrong square side value.\n",
      "Wrong square side value.\n"
     ]
    }
   ],
   "source": [
    "class NonPositiveDigitException(ValueError):\n",
    "    def __init__(self, message, error) -> None:\n",
    "        super().__init__(message)\n",
    "        print(f\"Error: {message}\")\n",
    "        \n",
    "\n",
    "class Square():\n",
    "    def __init__(self, a) -> None:\n",
    "        if a <= 0:\n",
    "            raise NonPositiveDigitException(message='Wrong square side value.', error='NonPositiveDigitError')\n",
    "        \n",
    "try:\n",
    "    a = Square(0)\n",
    "except ValueError as e:\n",
    "    print(e)"
   ]
  }
 ],
 "metadata": {
  "kernelspec": {
   "display_name": "Python 3",
   "language": "python",
   "name": "python3"
  },
  "language_info": {
   "codemirror_mode": {
    "name": "ipython",
    "version": 3
   },
   "file_extension": ".py",
   "mimetype": "text/x-python",
   "name": "python",
   "nbconvert_exporter": "python",
   "pygments_lexer": "ipython3",
   "version": "3.8.10"
  }
 },
 "nbformat": 4,
 "nbformat_minor": 2
}
