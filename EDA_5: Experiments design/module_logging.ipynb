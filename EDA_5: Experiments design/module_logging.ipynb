{
 "cells": [
  {
   "cell_type": "code",
   "execution_count": 2,
   "metadata": {},
   "outputs": [],
   "source": [
    "import pandas as pd\n",
    "import os.path\n",
    "import logging\n",
    "\n",
    "df = pd.read_csv('data/KaggleV2-May-2016.csv')"
   ]
  },
  {
   "cell_type": "code",
   "execution_count": 10,
   "metadata": {},
   "outputs": [],
   "source": [
    "# function for creating a log-file which we'll write into\n",
    "def get_logger(path, file):\n",
    "    '''\n",
    "    [Creates a log file for logging into it]\n",
    "    Args:\n",
    "        path {string} -- dir path\n",
    "        file {string} -- file name\n",
    "    Returns:\n",
    "        [obj] -- [logger]\n",
    "    '''\n",
    "    # checking if file exists\n",
    "    log_file = os.path.join(path, file)\n",
    "    \n",
    "    # if no file, create it\n",
    "    if not os.path.isfile(log_file):\n",
    "        open(log_file, \"w+\").close()\n",
    "        \n",
    "    # changing the logging format\n",
    "    file_logging_format = \"%(levelname)s: %(asctime)s: %(message)s\"\n",
    "    \n",
    "    # config the log file\n",
    "    logging.basicConfig(\n",
    "        level=logging.INFO,\n",
    "        format=file_logging_format)\n",
    "    logger = logging.getLogger()\n",
    "    \n",
    "    # creating handler for recording logs into the file\n",
    "    handler = logging.FileHandler(log_file)\n",
    "    \n",
    "    # setting the logging level\n",
    "    handler.setLevel(logging.INFO)\n",
    "    \n",
    "    # creating the logging format\n",
    "    formatter = logging.Formatter(file_logging_format)\n",
    "    handler.setFormatter(formatter)\n",
    "    \n",
    "    # add handler to the logger\n",
    "    logger.addHandler(handler)\n",
    "    \n",
    "    return logger"
   ]
  },
  {
   "cell_type": "code",
   "execution_count": 11,
   "metadata": {},
   "outputs": [
    {
     "name": "stderr",
     "output_type": "stream",
     "text": [
      "INFO: 2024-06-14 12:44:45,303: Data\n",
      "INFO: 2024-06-14 12:44:45,304: Data shape (110527, 14)\n",
      "INFO: 2024-06-14 12:44:45,321: Percentage of women: 0.653882342398853\n",
      "INFO: 2024-06-14 12:44:45,336: Percentage of men: 0.346117657601147\n"
     ]
    }
   ],
   "source": [
    "# create log file\n",
    "logger = get_logger(path=\"logs/\", file=\"data.logs\")\n",
    "logger.info(\"Data\")\n",
    "logger.info(\"Data shape {}\".format(df.shape))\n",
    "logger.info(\"Percentage of women: {}\".format(df[df['No-show']=='Yes']['Gender'].value_counts(True)[0]))\n",
    "logger.info(\"Percentage of men: {}\".format(df[df['No-show']=='Yes']['Gender'].value_counts(True)[1]))"
   ]
  },
  {
   "cell_type": "code",
   "execution_count": 12,
   "metadata": {},
   "outputs": [
    {
     "name": "stderr",
     "output_type": "stream",
     "text": [
      "ERROR: 2024-06-14 12:45:34,584: Data shape is incorrect!\n"
     ]
    }
   ],
   "source": [
    "if df.shape != (110526, 14):\n",
    "    logger.error('Data shape is incorrect!')"
   ]
  },
  {
   "cell_type": "markdown",
   "metadata": {},
   "source": [
    "## Creating experiment with Comet.ml"
   ]
  },
  {
   "cell_type": "code",
   "execution_count": 13,
   "metadata": {},
   "outputs": [
    {
     "name": "stderr",
     "output_type": "stream",
     "text": [
      "\u001b[1;38;5;214mCOMET WARNING:\u001b[0m As you are running in a Jupyter environment, you will need to call `experiment.end()` when finished to ensure all metrics and code are logged before exiting.\n",
      "\u001b[1;38;5;39mCOMET INFO:\u001b[0m Experiment is live on comet.com https://www.comet.com/gettergit/medical-appointment/0a0e753193c04fcda1bdd591a035f04b\n",
      "\n"
     ]
    }
   ],
   "source": [
    "from comet_ml import Experiment\n",
    "from dotenv import load_dotenv\n",
    "from os import getenv\n",
    "load_dotenv()\n",
    "\n",
    "experiment = Experiment(\n",
    "    api_key=getenv('COMET_API_KEY'),\n",
    "    project_name='medical-appointment',\n",
    "    workspace=getenv('WORKSPACE_NAME')\n",
    ")\n",
    "\n",
    "experiment.end()"
   ]
  },
  {
   "cell_type": "markdown",
   "metadata": {},
   "source": [
    "![comet_methods](images/comet_methods.png)"
   ]
  }
 ],
 "metadata": {
  "kernelspec": {
   "display_name": "Python 3",
   "language": "python",
   "name": "python3"
  },
  "language_info": {
   "codemirror_mode": {
    "name": "ipython",
    "version": 3
   },
   "file_extension": ".py",
   "mimetype": "text/x-python",
   "name": "python",
   "nbconvert_exporter": "python",
   "pygments_lexer": "ipython3",
   "version": "3.8.10"
  }
 },
 "nbformat": 4,
 "nbformat_minor": 2
}
