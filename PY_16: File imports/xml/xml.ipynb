{
 "cells": [
  {
   "cell_type": "markdown",
   "metadata": {},
   "source": [
    "![xml](../images/xml.png)"
   ]
  },
  {
   "cell_type": "code",
   "execution_count": 9,
   "metadata": {},
   "outputs": [
    {
     "data": {
      "text/plain": [
       "<xml.etree.ElementTree.ElementTree at 0x7f79685317c0>"
      ]
     },
     "metadata": {},
     "output_type": "display_data"
    }
   ],
   "source": [
    "import xml.etree.ElementTree as ET\n",
    "\n",
    "tree = ET.parse('menu.xml')\n",
    "display(tree)"
   ]
  },
  {
   "cell_type": "markdown",
   "metadata": {},
   "source": [
    "#### КОРЕНЬ"
   ]
  },
  {
   "cell_type": "code",
   "execution_count": 10,
   "metadata": {},
   "outputs": [
    {
     "data": {
      "text/plain": [
       "<Element 'menu' at 0x7f79682b1bd0>"
      ]
     },
     "metadata": {},
     "output_type": "display_data"
    },
    {
     "data": {
      "text/plain": [
       "xml.etree.ElementTree.Element"
      ]
     },
     "metadata": {},
     "output_type": "display_data"
    }
   ],
   "source": [
    "root = tree.getroot()\n",
    "display(root, type(root))"
   ]
  },
  {
   "cell_type": "markdown",
   "metadata": {},
   "source": [
    "#### ПОТОМКИ"
   ]
  },
  {
   "cell_type": "markdown",
   "metadata": {},
   "source": [
    "Для того чтобы посмотреть список потомков корневого узла, выполним следующий код:"
   ]
  },
  {
   "cell_type": "code",
   "execution_count": 11,
   "metadata": {},
   "outputs": [
    {
     "data": {
      "text/plain": [
       "[<Element 'dish' at 0x7f79687159a0>, <Element 'dish' at 0x7f7968715b30>]"
      ]
     },
     "metadata": {},
     "output_type": "display_data"
    }
   ],
   "source": [
    "display(list(root))"
   ]
  },
  {
   "cell_type": "markdown",
   "metadata": {},
   "source": [
    "Итак, использование list(root) возвращает список потомков указанного узла. У узла root, который представляет меню, два потомка, а именно — два блюда, которые представлены тегами dish."
   ]
  },
  {
   "cell_type": "markdown",
   "metadata": {},
   "source": [
    "Для того чтобы получить список потомков второго блюда в нашем меню и вывести его на экран, выполним код:"
   ]
  },
  {
   "cell_type": "code",
   "execution_count": 12,
   "metadata": {},
   "outputs": [
    {
     "data": {
      "text/plain": [
       "[<Element 'price' at 0x7f7968715ae0>,\n",
       " <Element 'weight' at 0x7f7968715b80>,\n",
       " <Element 'class' at 0x7f7968715e50>]"
      ]
     },
     "metadata": {},
     "output_type": "display_data"
    }
   ],
   "source": [
    "display(list(root[1]))"
   ]
  },
  {
   "cell_type": "markdown",
   "metadata": {},
   "source": [
    "#### АТРИБУТЫ И ТЕГИ"
   ]
  },
  {
   "cell_type": "markdown",
   "metadata": {},
   "source": [
    "Как было сказано ранее, у узлов могут быть параметры, или атрибуты. Например, у узлов dish есть атрибут name, который хранит название блюда."
   ]
  },
  {
   "cell_type": "code",
   "execution_count": 13,
   "metadata": {},
   "outputs": [
    {
     "data": {
      "text/plain": [
       "{'name': 'Кура'}"
      ]
     },
     "metadata": {},
     "output_type": "display_data"
    }
   ],
   "source": [
    "display(root[0].attrib)"
   ]
  },
  {
   "cell_type": "markdown",
   "metadata": {},
   "source": [
    "В XML-узлах часто хранятся количественные показатели. Эти показатели хранятся в виде текста, и прочитать их можно, обратившись к атрибуту text у соответствующего объекта типа ElementTree.Element."
   ]
  },
  {
   "cell_type": "code",
   "execution_count": 14,
   "metadata": {},
   "outputs": [
    {
     "data": {
      "text/plain": [
       "'40'"
      ]
     },
     "metadata": {},
     "output_type": "display_data"
    }
   ],
   "source": [
    "display(root[0][0].text)"
   ]
  },
  {
   "cell_type": "markdown",
   "metadata": {},
   "source": [
    "Если вы хотите прочитать наименование тега конкретного узла, необходимо использовать tag. Например, получим наименование тега корневого узла:"
   ]
  },
  {
   "cell_type": "code",
   "execution_count": 16,
   "metadata": {},
   "outputs": [
    {
     "data": {
      "text/plain": [
       "'class'"
      ]
     },
     "metadata": {},
     "output_type": "display_data"
    }
   ],
   "source": [
    "display(root[0][2].tag)"
   ]
  },
  {
   "cell_type": "markdown",
   "metadata": {},
   "source": [
    "#### ИСПОЛЬЗОВАНИЕ ЦИКЛОВ"
   ]
  },
  {
   "cell_type": "markdown",
   "metadata": {},
   "source": [
    "На этом шаге мы решим задачу вывода на экран наименование всех блюд из меню, а также информацию о них (иными словами, нам необходимо обойти дерево и вывести на экран значения его листьев)."
   ]
  },
  {
   "cell_type": "code",
   "execution_count": 18,
   "metadata": {},
   "outputs": [
    {
     "name": "stdout",
     "output_type": "stream",
     "text": [
      "Кура price 40\n",
      "Кура weight 300\n",
      "Кура class Мясо\n",
      "\n",
      "Греча price 20\n",
      "Греча weight 200\n",
      "Греча class Крупа\n",
      "\n"
     ]
    }
   ],
   "source": [
    "for dish in root:\n",
    "    for param in dish:\n",
    "        print(dish.attrib['name'], param.tag, param.text)\n",
    "    print()"
   ]
  },
  {
   "cell_type": "markdown",
   "metadata": {},
   "source": [
    "#### ЗАГРУЖАЕМ ДАННЫЕ ИЗ XML-ФАЙЛА В DATAFRAME"
   ]
  },
  {
   "cell_type": "code",
   "execution_count": 19,
   "metadata": {},
   "outputs": [
    {
     "data": {
      "text/html": [
       "<div>\n",
       "<style scoped>\n",
       "    .dataframe tbody tr th:only-of-type {\n",
       "        vertical-align: middle;\n",
       "    }\n",
       "\n",
       "    .dataframe tbody tr th {\n",
       "        vertical-align: top;\n",
       "    }\n",
       "\n",
       "    .dataframe thead th {\n",
       "        text-align: right;\n",
       "    }\n",
       "</style>\n",
       "<table border=\"1\" class=\"dataframe\">\n",
       "  <thead>\n",
       "    <tr style=\"text-align: right;\">\n",
       "      <th></th>\n",
       "      <th>name</th>\n",
       "      <th>price</th>\n",
       "      <th>weight</th>\n",
       "      <th>class</th>\n",
       "    </tr>\n",
       "  </thead>\n",
       "  <tbody>\n",
       "    <tr>\n",
       "      <th>0</th>\n",
       "      <td>Кура</td>\n",
       "      <td>40</td>\n",
       "      <td>300</td>\n",
       "      <td>Мясо</td>\n",
       "    </tr>\n",
       "    <tr>\n",
       "      <th>1</th>\n",
       "      <td>Греча</td>\n",
       "      <td>20</td>\n",
       "      <td>200</td>\n",
       "      <td>Крупа</td>\n",
       "    </tr>\n",
       "  </tbody>\n",
       "</table>\n",
       "</div>"
      ],
      "text/plain": [
       "    name price weight  class\n",
       "0   Кура    40    300   Мясо\n",
       "1  Греча    20    200  Крупа"
      ]
     },
     "metadata": {},
     "output_type": "display_data"
    }
   ],
   "source": [
    "import pandas as pd\n",
    "\n",
    "tree = ET.parse('menu.xml')\n",
    "root = tree.getroot()\n",
    "\n",
    "column_names = ['name', 'price', 'weight', 'class']\n",
    "df_list = []\n",
    "\n",
    "for dish in root:\n",
    "    row = [dish.attrib['name'], dish[0].text, dish[1].text, dish[2].text]\n",
    "    df_list.append(row)\n",
    "    \n",
    "df = pd.DataFrame(df_list, columns=column_names)\n",
    "display(df)"
   ]
  },
  {
   "cell_type": "markdown",
   "metadata": {},
   "source": [
    "#### СОЗДАЁМ XML-ФАЙЛ"
   ]
  },
  {
   "cell_type": "markdown",
   "metadata": {},
   "source": [
    "→ Воссоздадим структуру нашего исходного XML-файла с нуля,  руководствуясь общими рекомендациями."
   ]
  },
  {
   "cell_type": "code",
   "execution_count": 20,
   "metadata": {},
   "outputs": [
    {
     "data": {
      "text/plain": [
       "<Element 'menu' at 0x7f79699efb80>"
      ]
     },
     "metadata": {},
     "output_type": "display_data"
    }
   ],
   "source": [
    "new_root = ET.Element('menu')\n",
    "display(new_root)"
   ]
  },
  {
   "cell_type": "markdown",
   "metadata": {},
   "source": [
    "Теперь мы можем добавлять новые узлы в наше дерево, используя метод SubElement() из того же класса."
   ]
  },
  {
   "cell_type": "code",
   "execution_count": 21,
   "metadata": {},
   "outputs": [
    {
     "data": {
      "text/plain": [
       "[<Element 'dish' at 0x7f796871d770>, <Element 'dish' at 0x7f796821e090>]"
      ]
     },
     "metadata": {},
     "output_type": "display_data"
    }
   ],
   "source": [
    "dish1 = ET.SubElement(new_root, 'dish', name='Кура')\n",
    "\n",
    "dish2 = ET.SubElement(new_root, 'dish', name='Греча')\n",
    "\n",
    "display(list(new_root))"
   ]
  },
  {
   "cell_type": "markdown",
   "metadata": {},
   "source": [
    "Аналогичным образом можно добавлять новые узлы к любым существующим узлам, не только к корню."
   ]
  },
  {
   "cell_type": "code",
   "execution_count": 22,
   "metadata": {},
   "outputs": [
    {
     "data": {
      "text/plain": [
       "[<Element 'price' at 0x7f796871d5e0>,\n",
       " <Element 'weight' at 0x7f7969a1a590>,\n",
       " <Element 'class' at 0x7f7969a1a450>]"
      ]
     },
     "metadata": {},
     "output_type": "display_data"
    },
    {
     "data": {
      "text/plain": [
       "[<Element 'price' at 0x7f7969a12f90>,\n",
       " <Element 'weight' at 0x7f796832b270>,\n",
       " <Element 'class' at 0x7f7969a1a860>]"
      ]
     },
     "metadata": {},
     "output_type": "display_data"
    }
   ],
   "source": [
    "price1 = ET.SubElement(dish1, \"price\").text = \"40\"\n",
    "weight1 = ET.SubElement(dish1, \"weight\").text = \"300\"\n",
    "class1 = ET.SubElement(dish1, \"class\").text = \"Мясо\"\n",
    "display(list(dish1))\n",
    "\n",
    "price2 = ET.SubElement(dish2, \"price\").text = \"20\"\n",
    "weight2 = ET.SubElement(dish2, \"weight\").text = \"200\"\n",
    "class2 = ET.SubElement(dish2, \"class\").text = \"Крупа\"\n",
    "display(list(dish2))"
   ]
  },
  {
   "cell_type": "code",
   "execution_count": 23,
   "metadata": {},
   "outputs": [
    {
     "name": "stdout",
     "output_type": "stream",
     "text": [
      "Кура price 40\n",
      "Кура weight 300\n",
      "Кура class Мясо\n",
      "\n",
      "Греча price 20\n",
      "Греча weight 200\n",
      "Греча class Крупа\n",
      "\n"
     ]
    }
   ],
   "source": [
    "for dish in new_root:\n",
    "    for param in dish:\n",
    "        print(dish.attrib['name'], param.tag, param.text)\n",
    "    print()"
   ]
  },
  {
   "cell_type": "markdown",
   "metadata": {},
   "source": [
    "#### СОХРАНЕНИЕ XML-ФАЙЛА"
   ]
  },
  {
   "cell_type": "code",
   "execution_count": 24,
   "metadata": {},
   "outputs": [],
   "source": [
    "new_root_string = ET.tostring(new_root)\n",
    "with open('new_menu.xml', 'wb') as f:\n",
    "    f.write(new_root_string)"
   ]
  },
  {
   "cell_type": "markdown",
   "metadata": {},
   "source": [
    "Возможно, вы увидите проблему, связанную с кодировкой. Что делать в этом случае? Как вариант — записать файл, используя сам класс ElementTree() :"
   ]
  },
  {
   "cell_type": "code",
   "execution_count": null,
   "metadata": {},
   "outputs": [],
   "source": [
    "ET.ElementTree(new_root).write('new_menu_decoded.xml', encoding='utf-8')"
   ]
  }
 ],
 "metadata": {
  "kernelspec": {
   "display_name": "Python 3",
   "language": "python",
   "name": "python3"
  },
  "language_info": {
   "codemirror_mode": {
    "name": "ipython",
    "version": 3
   },
   "file_extension": ".py",
   "mimetype": "text/x-python",
   "name": "python",
   "nbconvert_exporter": "python",
   "pygments_lexer": "ipython3",
   "version": "3.8.10"
  }
 },
 "nbformat": 4,
 "nbformat_minor": 2
}
